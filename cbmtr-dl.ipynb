{
 "cells": [
  {
   "cell_type": "code",
   "execution_count": 1,
   "metadata": {
    "execution": {
     "iopub.execute_input": "2024-12-19T06:32:58.623031Z",
     "iopub.status.busy": "2024-12-19T06:32:58.622634Z",
     "iopub.status.idle": "2024-12-19T06:33:10.345668Z",
     "shell.execute_reply": "2024-12-19T06:33:10.344421Z",
     "shell.execute_reply.started": "2024-12-19T06:32:58.622993Z"
    },
    "trusted": true
   },
   "outputs": [
    {
     "name": "stdout",
     "output_type": "stream",
     "text": [
      "Looking in links: /kaggle/input/cmbrdata\n",
      "Processing /kaggle/input/cmbrdata/scikit_survival-0.23.1-cp310-cp310-manylinux_2_17_x86_64.manylinux2014_x86_64.whl\n",
      "Requirement already satisfied: ecos in /usr/local/lib/python3.10/dist-packages (from scikit-survival) (2.0.14)\n",
      "Requirement already satisfied: joblib in /usr/local/lib/python3.10/dist-packages (from scikit-survival) (1.4.2)\n",
      "Requirement already satisfied: numexpr in /usr/local/lib/python3.10/dist-packages (from scikit-survival) (2.10.1)\n",
      "Requirement already satisfied: numpy in /usr/local/lib/python3.10/dist-packages (from scikit-survival) (1.26.4)\n",
      "Requirement already satisfied: osqp!=0.6.0,!=0.6.1 in /usr/local/lib/python3.10/dist-packages (from scikit-survival) (0.6.7.post0)\n",
      "Requirement already satisfied: pandas>=1.4.0 in /usr/local/lib/python3.10/dist-packages (from scikit-survival) (2.1.4)\n",
      "Requirement already satisfied: scipy>=1.3.2 in /usr/local/lib/python3.10/dist-packages (from scikit-survival) (1.13.1)\n",
      "Processing /kaggle/input/cmbrdata/scikit_learn-1.5.2-cp310-cp310-manylinux_2_17_x86_64.manylinux2014_x86_64.whl (from scikit-survival)\n",
      "Requirement already satisfied: qdldl in /usr/local/lib/python3.10/dist-packages (from osqp!=0.6.0,!=0.6.1->scikit-survival) (0.1.7.post4)\n",
      "Requirement already satisfied: python-dateutil>=2.8.2 in /usr/local/lib/python3.10/dist-packages (from pandas>=1.4.0->scikit-survival) (2.8.2)\n",
      "Requirement already satisfied: pytz>=2020.1 in /usr/local/lib/python3.10/dist-packages (from pandas>=1.4.0->scikit-survival) (2024.2)\n",
      "Requirement already satisfied: tzdata>=2022.1 in /usr/local/lib/python3.10/dist-packages (from pandas>=1.4.0->scikit-survival) (2024.1)\n",
      "Requirement already satisfied: threadpoolctl>=3.1.0 in /usr/local/lib/python3.10/dist-packages (from scikit-learn<1.6,>=1.4.0->scikit-survival) (3.5.0)\n",
      "Requirement already satisfied: six>=1.5 in /usr/local/lib/python3.10/dist-packages (from python-dateutil>=2.8.2->pandas>=1.4.0->scikit-survival) (1.16.0)\n",
      "Installing collected packages: scikit-learn, scikit-survival\n",
      "  Attempting uninstall: scikit-learn\n",
      "    Found existing installation: scikit-learn 1.2.2\n",
      "    Uninstalling scikit-learn-1.2.2:\n",
      "      Successfully uninstalled scikit-learn-1.2.2\n",
      "Successfully installed scikit-learn-1.5.2 scikit-survival-0.23.1\n",
      "Note: you may need to restart the kernel to use updated packages.\n"
     ]
    }
   ],
   "source": [
    "# pip install --no-index --find-links=/kaggle/input/cmbrdata scikit-survival"
   ]
  },
  {
   "cell_type": "code",
   "execution_count": 7,
   "metadata": {
    "execution": {
     "iopub.execute_input": "2024-12-19T06:34:02.424376Z",
     "iopub.status.busy": "2024-12-19T06:34:02.423967Z",
     "iopub.status.idle": "2024-12-19T06:34:02.432059Z",
     "shell.execute_reply": "2024-12-19T06:34:02.430653Z",
     "shell.execute_reply.started": "2024-12-19T06:34:02.424334Z"
    },
    "trusted": true
   },
   "outputs": [],
   "source": [
    "from sklearn.preprocessing import LabelEncoder\n",
    "\n",
    "def handle_columns(df):\n",
    "    \"\"\"\n",
    "    Handles both categorical and numerical columns in a DataFrame.\n",
    "    \n",
    "    - Categorical columns:\n",
    "        - Replaces NaN with a placeholder 'NaN' to distinguish missing values.\n",
    "        - Applies label encoding specific to each column.\n",
    "        - Ensures the dtype remains numeric after encoding.\n",
    "    \n",
    "    - Numerical columns:\n",
    "        - Replaces NaN values with the column mean.\n",
    "        - Downcasts float64 to float32 and int64 to int32 for memory efficiency.\n",
    "\n",
    "    Parameters:\n",
    "    - df (pd.DataFrame): Input DataFrame to process.\n",
    "\n",
    "    Returns:\n",
    "    - pd.DataFrame: Processed DataFrame with handled missing values and optimized data types.\n",
    "    \"\"\"\n",
    "    df = df.copy() \n",
    "\n",
    "    # Handle Categorical Columns\n",
    "    categorical_cols = df.select_dtypes(include=['object', 'category']).columns\n",
    "    \n",
    "    for col in categorical_cols:\n",
    "        # Replace NaN with 'Missing' for categorical columns\n",
    "        df[col] = df[col].fillna('NaN')\n",
    "        \n",
    "        # Apply Label Encoding to each categorical column\n",
    "        le = LabelEncoder()\n",
    "        df[col] = le.fit_transform(df[col].astype(str))\n",
    "        \n",
    "        # Convert to numeric type explicitly\n",
    "        df[col] = df[col].astype(int)\n",
    "    \n",
    "    # Handle Numerical Columns\n",
    "    numerical_cols = df.select_dtypes(include=['number']).columns\n",
    "    \n",
    "    for col in numerical_cols:\n",
    "        # Replace NaN values with the column mean\n",
    "        df[col] = df[col].fillna(df[col].mean())\n",
    "        \n",
    "        # Downcast to reduce memory usage\n",
    "        if df[col].dtype == 'float64':\n",
    "            df[col] = pd.to_numeric(df[col], downcast='float')  # Downcast to float32\n",
    "        elif df[col].dtype == 'int64':\n",
    "            df[col] = pd.to_numeric(df[col], downcast='integer')  # Downcast to int32\n",
    "    \n",
    "    return df\n"
   ]
  },
  {
   "cell_type": "code",
   "execution_count": 8,
   "metadata": {
    "_cell_guid": "b1076dfc-b9ad-4769-8c92-a6c4dae69d19",
    "_uuid": "8f2839f25d086af736a60e9eeb907d3b93b6e0e5",
    "execution": {
     "iopub.execute_input": "2024-12-19T06:34:05.518222Z",
     "iopub.status.busy": "2024-12-19T06:34:05.517822Z",
     "iopub.status.idle": "2024-12-19T06:34:06.403069Z",
     "shell.execute_reply": "2024-12-19T06:34:06.401848Z",
     "shell.execute_reply.started": "2024-12-19T06:34:05.518171Z"
    },
    "trusted": true
   },
   "outputs": [],
   "source": [
    "import tensorflow as tf\n",
    "from tensorflow.keras.models import Sequential\n",
    "from tensorflow.keras.layers import Dense, Dropout\n",
    "from tensorflow.keras import regularizers\n",
    "from sksurv.util import Surv\n",
    "import numpy as np\n",
    "import pandas as pd\n",
    "from sklearn.model_selection import train_test_split\n",
    "\n",
    "# Prepare the data (same as before)\n",
    "train_data = pd.read_csv(\"/kaggle/input/equity-post-HCT-survival-predictions/train.csv\")\n",
    "train_data = handle_columns(train_data)\n",
    "\n",
    "# Check the columns\n",
    "if 'efs' not in train_data.columns or 'efs_time' not in train_data.columns:\n",
    "    raise ValueError(\"The dataset must contain 'efs' (event) and 'efs_time' (time-to-event) columns.\")\n",
    "\n",
    "# Convert 'efs' to boolean for survival analysis\n",
    "train_data['efs'] = train_data['efs'].astype(bool)\n",
    "\n",
    "# Create survival data from DataFrame\n",
    "survival_data = Surv.from_dataframe(\"efs\", \"efs_time\", train_data)\n",
    "\n",
    "# Features and target\n",
    "X = train_data.drop(columns=['efs', 'efs_time'])\n",
    "y = survival_data\n",
    "\n",
    "# Split the data into training and validation sets\n",
    "X_train, X_val, y_train, y_val = train_test_split(X, y, test_size=0.2, random_state=42)\n"
   ]
  },
  {
   "cell_type": "code",
   "execution_count": 9,
   "metadata": {
    "execution": {
     "iopub.execute_input": "2024-12-19T06:34:06.405249Z",
     "iopub.status.busy": "2024-12-19T06:34:06.404723Z",
     "iopub.status.idle": "2024-12-19T06:34:06.505111Z",
     "shell.execute_reply": "2024-12-19T06:34:06.503796Z",
     "shell.execute_reply.started": "2024-12-19T06:34:06.405153Z"
    },
    "trusted": true
   },
   "outputs": [
    {
     "name": "stderr",
     "output_type": "stream",
     "text": [
      "/usr/local/lib/python3.10/dist-packages/keras/src/layers/core/dense.py:87: UserWarning: Do not pass an `input_shape`/`input_dim` argument to a layer. When using Sequential models, prefer using an `Input(shape)` object as the first layer in the model instead.\n",
      "  super().__init__(activity_regularizer=activity_regularizer, **kwargs)\n"
     ]
    }
   ],
   "source": [
    "\n",
    "# Build the Deep Learning Model\n",
    "model = Sequential()\n",
    "\n",
    "# Add input layer\n",
    "model.add(Dense(128, activation='relu', input_dim=X_train.shape[1], kernel_regularizer=regularizers.l2(0.01)))\n",
    "\n",
    "# Add hidden layers\n",
    "model.add(Dense(64, activation='relu'))\n",
    "model.add(Dropout(0.5))\n",
    "model.add(Dense(32, activation='relu'))\n",
    "model.add(Dropout(0.5))\n",
    "\n",
    "# Output layer for Cox Proportional Hazards (log hazard ratio)\n",
    "model.add(Dense(1, activation='linear'))\n",
    "\n",
    "from sklearn.preprocessing import StandardScaler\n",
    "\n",
    "scaler = StandardScaler()\n",
    "X_train_scaled = scaler.fit_transform(X_train)\n",
    "X_val_scaled = scaler.transform(X_val)\n",
    "\n",
    "\n"
   ]
  },
  {
   "cell_type": "code",
   "execution_count": 10,
   "metadata": {
    "execution": {
     "iopub.execute_input": "2024-12-19T06:34:33.967998Z",
     "iopub.status.busy": "2024-12-19T06:34:33.967630Z",
     "iopub.status.idle": "2024-12-19T06:34:33.981224Z",
     "shell.execute_reply": "2024-12-19T06:34:33.979538Z",
     "shell.execute_reply.started": "2024-12-19T06:34:33.967967Z"
    },
    "trusted": true
   },
   "outputs": [],
   "source": [
    "# Compile the model with the Cox Proportional Hazards loss\n",
    "\"\"\"def cox_loss(y_true, y_pred):\n",
    "    event = y_true[:, 0]\n",
    "    time = y_true[:, 1]\n",
    "    \n",
    "    # Ensure there are no NaN or infinite values in y_pred\n",
    "    y_pred = tf.clip_by_value(y_pred, 1e-5, 1e5)\n",
    "    \n",
    "    risk = tf.exp(y_pred)  # Compute risk score from log-hazard ratio\n",
    "    log_likelihood = event * y_pred - tf.cumsum(risk, axis=1)\n",
    "    \n",
    "    return -tf.reduce_mean(log_likelihood)\"\"\"\n",
    "\n",
    "import tensorflow as tf\n",
    "\n",
    "def cox_loss(y_true, y_pred):\n",
    "    \"\"\"\n",
    "    Cox proportional hazards loss for survival analysis.\n",
    "\n",
    "    Args:\n",
    "        y_true: A tensor of shape (batch_size, 2), where\n",
    "                - y_true[:, 0] is the event indicator (1 if event occurred, 0 otherwise)\n",
    "                - y_true[:, 1] is the observed time\n",
    "        y_pred: A tensor of shape (batch_size, 1), representing the predicted log hazard ratio.\n",
    "    \n",
    "    Returns:\n",
    "        A scalar representing the Cox loss.\n",
    "    \"\"\"\n",
    "    # Split the input into event indicator and survival times\n",
    "    event = y_true[:, 0]\n",
    "    time = y_true[:, 1]\n",
    "    \n",
    "    # Sort by time in descending order\n",
    "    indices = tf.argsort(time, direction='DESCENDING')\n",
    "    y_pred_sorted = tf.gather(y_pred, indices)\n",
    "    event_sorted = tf.gather(event, indices)\n",
    "    \n",
    "    # Compute the risk scores\n",
    "    risk = tf.exp(y_pred_sorted)\n",
    "    \n",
    "    # Compute the log cumulative sum of the risk scores\n",
    "    log_cumsum_risk = tf.math.log(tf.cumsum(risk))\n",
    "    \n",
    "    # Compute the log-likelihood\n",
    "    log_likelihood = y_pred_sorted - log_cumsum_risk\n",
    "    log_likelihood = log_likelihood * event_sorted  # Only for events\n",
    "    \n",
    "    # Compute the negative mean log-likelihood\n",
    "    loss = -tf.reduce_mean(log_likelihood)\n",
    "    return loss\n",
    "\n",
    "# Compile the model\n",
    "model.compile(optimizer=tf.keras.optimizers.Adam(learning_rate=0.001), loss=cox_loss)\n",
    "\n",
    "\n"
   ]
  },
  {
   "cell_type": "code",
   "execution_count": 18,
   "metadata": {
    "execution": {
     "iopub.execute_input": "2024-12-19T06:41:33.238839Z",
     "iopub.status.busy": "2024-12-19T06:41:33.238489Z",
     "iopub.status.idle": "2024-12-19T06:41:33.249350Z",
     "shell.execute_reply": "2024-12-19T06:41:33.248234Z",
     "shell.execute_reply.started": "2024-12-19T06:41:33.238809Z"
    },
    "trusted": true
   },
   "outputs": [],
   "source": [
    "model.compile(optimizer=tf.keras.optimizers.Adam(learning_rate=0.001), loss=cox_loss)"
   ]
  },
  {
   "cell_type": "code",
   "execution_count": 19,
   "metadata": {
    "execution": {
     "iopub.execute_input": "2024-12-19T06:41:33.527750Z",
     "iopub.status.busy": "2024-12-19T06:41:33.527296Z",
     "iopub.status.idle": "2024-12-19T06:41:33.533932Z",
     "shell.execute_reply": "2024-12-19T06:41:33.532724Z",
     "shell.execute_reply.started": "2024-12-19T06:41:33.527703Z"
    },
    "trusted": true
   },
   "outputs": [],
   "source": [
    "y_train_input = np.column_stack((y_train['efs'], y_train['efs_time']))\n",
    "y_val_input = np.column_stack((y_val['efs'], y_val['efs_time']))\n"
   ]
  },
  {
   "cell_type": "code",
   "execution_count": 20,
   "metadata": {
    "execution": {
     "iopub.execute_input": "2024-12-19T06:41:34.633567Z",
     "iopub.status.busy": "2024-12-19T06:41:34.633091Z",
     "iopub.status.idle": "2024-12-19T06:42:51.436483Z",
     "shell.execute_reply": "2024-12-19T06:42:51.434313Z",
     "shell.execute_reply.started": "2024-12-19T06:41:34.633527Z"
    },
    "trusted": true
   },
   "outputs": [
    {
     "name": "stdout",
     "output_type": "stream",
     "text": [
      "Training started...\n",
      "Epoch 1/100\n",
      "\u001b[1m1440/1440\u001b[0m \u001b[32m━━━━━━━━━━━━━━━━━━━━\u001b[0m\u001b[37m\u001b[0m \u001b[1m5s\u001b[0m 2ms/step - loss: 1.0122 - val_loss: 0.9958\n",
      "Epoch 2/100\n",
      "\u001b[1m1440/1440\u001b[0m \u001b[32m━━━━━━━━━━━━━━━━━━━━\u001b[0m\u001b[37m\u001b[0m \u001b[1m3s\u001b[0m 2ms/step - loss: 1.0140 - val_loss: 0.9956\n",
      "Epoch 3/100\n",
      "\u001b[1m1440/1440\u001b[0m \u001b[32m━━━━━━━━━━━━━━━━━━━━\u001b[0m\u001b[37m\u001b[0m \u001b[1m3s\u001b[0m 2ms/step - loss: 1.0080 - val_loss: 0.9948\n",
      "Epoch 4/100\n",
      "\u001b[1m1440/1440\u001b[0m \u001b[32m━━━━━━━━━━━━━━━━━━━━\u001b[0m\u001b[37m\u001b[0m \u001b[1m3s\u001b[0m 2ms/step - loss: 1.0219 - val_loss: 0.9939\n",
      "Epoch 5/100\n",
      "\u001b[1m1440/1440\u001b[0m \u001b[32m━━━━━━━━━━━━━━━━━━━━\u001b[0m\u001b[37m\u001b[0m \u001b[1m3s\u001b[0m 2ms/step - loss: 1.0075 - val_loss: 0.9959\n",
      "Epoch 6/100\n",
      "\u001b[1m1440/1440\u001b[0m \u001b[32m━━━━━━━━━━━━━━━━━━━━\u001b[0m\u001b[37m\u001b[0m \u001b[1m3s\u001b[0m 2ms/step - loss: 1.0219 - val_loss: 0.9971\n",
      "Epoch 7/100\n",
      "\u001b[1m1440/1440\u001b[0m \u001b[32m━━━━━━━━━━━━━━━━━━━━\u001b[0m\u001b[37m\u001b[0m \u001b[1m3s\u001b[0m 2ms/step - loss: 1.0249 - val_loss: 0.9939\n",
      "Epoch 8/100\n",
      "\u001b[1m1440/1440\u001b[0m \u001b[32m━━━━━━━━━━━━━━━━━━━━\u001b[0m\u001b[37m\u001b[0m \u001b[1m3s\u001b[0m 2ms/step - loss: 1.0003 - val_loss: 0.9944\n",
      "Epoch 9/100\n",
      "\u001b[1m1440/1440\u001b[0m \u001b[32m━━━━━━━━━━━━━━━━━━━━\u001b[0m\u001b[37m\u001b[0m \u001b[1m3s\u001b[0m 2ms/step - loss: 1.0093 - val_loss: 0.9946\n",
      "Epoch 10/100\n",
      "\u001b[1m1440/1440\u001b[0m \u001b[32m━━━━━━━━━━━━━━━━━━━━\u001b[0m\u001b[37m\u001b[0m \u001b[1m3s\u001b[0m 2ms/step - loss: 1.0093 - val_loss: 0.9952\n",
      "Epoch 11/100\n",
      "\u001b[1m1440/1440\u001b[0m \u001b[32m━━━━━━━━━━━━━━━━━━━━\u001b[0m\u001b[37m\u001b[0m \u001b[1m3s\u001b[0m 2ms/step - loss: 1.0080 - val_loss: 0.9961\n",
      "Epoch 12/100\n",
      "\u001b[1m1440/1440\u001b[0m \u001b[32m━━━━━━━━━━━━━━━━━━━━\u001b[0m\u001b[37m\u001b[0m \u001b[1m3s\u001b[0m 2ms/step - loss: 1.0108 - val_loss: 0.9958\n",
      "Epoch 13/100\n",
      "\u001b[1m1440/1440\u001b[0m \u001b[32m━━━━━━━━━━━━━━━━━━━━\u001b[0m\u001b[37m\u001b[0m \u001b[1m3s\u001b[0m 2ms/step - loss: 1.0011 - val_loss: 0.9959\n",
      "Epoch 14/100\n",
      "\u001b[1m1440/1440\u001b[0m \u001b[32m━━━━━━━━━━━━━━━━━━━━\u001b[0m\u001b[37m\u001b[0m \u001b[1m3s\u001b[0m 2ms/step - loss: 1.0159 - val_loss: 0.9945\n",
      "Epoch 15/100\n",
      "\u001b[1m1440/1440\u001b[0m \u001b[32m━━━━━━━━━━━━━━━━━━━━\u001b[0m\u001b[37m\u001b[0m \u001b[1m3s\u001b[0m 2ms/step - loss: 1.0068 - val_loss: 0.9933\n",
      "Epoch 16/100\n",
      "\u001b[1m1440/1440\u001b[0m \u001b[32m━━━━━━━━━━━━━━━━━━━━\u001b[0m\u001b[37m\u001b[0m \u001b[1m3s\u001b[0m 2ms/step - loss: 1.0106 - val_loss: 0.9940\n",
      "Epoch 17/100\n",
      "\u001b[1m1440/1440\u001b[0m \u001b[32m━━━━━━━━━━━━━━━━━━━━\u001b[0m\u001b[37m\u001b[0m \u001b[1m3s\u001b[0m 2ms/step - loss: 1.0097 - val_loss: 0.9943\n",
      "Epoch 18/100\n",
      "\u001b[1m1440/1440\u001b[0m \u001b[32m━━━━━━━━━━━━━━━━━━━━\u001b[0m\u001b[37m\u001b[0m \u001b[1m3s\u001b[0m 2ms/step - loss: 1.0155 - val_loss: 0.9955\n",
      "Epoch 19/100\n",
      "\u001b[1m1440/1440\u001b[0m \u001b[32m━━━━━━━━━━━━━━━━━━━━\u001b[0m\u001b[37m\u001b[0m \u001b[1m3s\u001b[0m 2ms/step - loss: 1.0060 - val_loss: 0.9945\n",
      "Epoch 20/100\n",
      "\u001b[1m1440/1440\u001b[0m \u001b[32m━━━━━━━━━━━━━━━━━━━━\u001b[0m\u001b[37m\u001b[0m \u001b[1m3s\u001b[0m 2ms/step - loss: 1.0107 - val_loss: 0.9934\n",
      "Epoch 21/100\n",
      "\u001b[1m1440/1440\u001b[0m \u001b[32m━━━━━━━━━━━━━━━━━━━━\u001b[0m\u001b[37m\u001b[0m \u001b[1m3s\u001b[0m 2ms/step - loss: 1.0068 - val_loss: 0.9935\n",
      "Epoch 22/100\n",
      "\u001b[1m1440/1440\u001b[0m \u001b[32m━━━━━━━━━━━━━━━━━━━━\u001b[0m\u001b[37m\u001b[0m \u001b[1m3s\u001b[0m 2ms/step - loss: 1.0086 - val_loss: 0.9950\n",
      "Epoch 23/100\n",
      "\u001b[1m1440/1440\u001b[0m \u001b[32m━━━━━━━━━━━━━━━━━━━━\u001b[0m\u001b[37m\u001b[0m \u001b[1m3s\u001b[0m 2ms/step - loss: 1.0117 - val_loss: 0.9939\n",
      "Epoch 24/100\n",
      "\u001b[1m1440/1440\u001b[0m \u001b[32m━━━━━━━━━━━━━━━━━━━━\u001b[0m\u001b[37m\u001b[0m \u001b[1m3s\u001b[0m 2ms/step - loss: 1.0168 - val_loss: 0.9951\n",
      "Epoch 25/100\n",
      "\u001b[1m1440/1440\u001b[0m \u001b[32m━━━━━━━━━━━━━━━━━━━━\u001b[0m\u001b[37m\u001b[0m \u001b[1m3s\u001b[0m 2ms/step - loss: 1.0088 - val_loss: 0.9969\n"
     ]
    },
    {
     "ename": "NameError",
     "evalue": "name 'end' is not defined",
     "output_type": "error",
     "traceback": [
      "\u001b[0;31m---------------------------------------------------------------------------\u001b[0m",
      "\u001b[0;31mNameError\u001b[0m                                 Traceback (most recent call last)",
      "\u001b[0;32m<ipython-input-20-9e8e28518536>\u001b[0m in \u001b[0;36m<cell line: 22>\u001b[0;34m()\u001b[0m\n\u001b[1;32m     20\u001b[0m \u001b[0;34m\u001b[0m\u001b[0m\n\u001b[1;32m     21\u001b[0m \u001b[0;34m\u001b[0m\u001b[0m\n\u001b[0;32m---> 22\u001b[0;31m \u001b[0mprint\u001b[0m\u001b[0;34m(\u001b[0m\u001b[0;34mf\"Total time to Train was {end-start}\"\u001b[0m\u001b[0;34m)\u001b[0m\u001b[0;34m\u001b[0m\u001b[0;34m\u001b[0m\u001b[0m\n\u001b[0m",
      "\u001b[0;31mNameError\u001b[0m: name 'end' is not defined"
     ]
    }
   ],
   "source": [
    "# Train the model again\n",
    "from tensorflow.keras.callbacks import EarlyStopping\n",
    "import time\n",
    "\n",
    "early_stopping = EarlyStopping(\n",
    "    monitor='val_loss',        # Monitor validation loss\n",
    "    patience=10,               # Stop training after 10 epochs of no improvement\n",
    "    restore_best_weights=True  # Restore the model weights from the best epoch\n",
    ")\n",
    "\n",
    "\n",
    "print(\"Training started...\")\n",
    "start = time.time()\n",
    "history = model.fit(X_train_scaled, \n",
    "          y_train_input, \n",
    "          epochs=100, \n",
    "          batch_size=16, \n",
    "          validation_data=(X_val_scaled, y_val_input),\n",
    "          callbacks=[early_stopping])\n",
    "end = time.time()\n",
    "print(f\"Total time to Train was {end-start}\")\n"
   ]
  },
  {
   "cell_type": "code",
   "execution_count": 21,
   "metadata": {
    "execution": {
     "iopub.execute_input": "2024-12-19T06:43:14.656095Z",
     "iopub.status.busy": "2024-12-19T06:43:14.655716Z",
     "iopub.status.idle": "2024-12-19T06:43:15.035460Z",
     "shell.execute_reply": "2024-12-19T06:43:15.034235Z",
     "shell.execute_reply.started": "2024-12-19T06:43:14.656066Z"
    },
    "trusted": true
   },
   "outputs": [
    {
     "data": {
      "image/png": "[encoded data removed]",
      "text/plain": [
       "<Figure size 1000x600 with 1 Axes>"
      ]
     },
     "metadata": {},
     "output_type": "display_data"
    }
   ],
   "source": [
    "import matplotlib.pyplot as plt\n",
    "\n",
    "# Extract training history\n",
    "history_dict = history.history\n",
    "\n",
    "# Extract loss values for training and validation\n",
    "loss = history_dict['loss']\n",
    "val_loss = history_dict['val_loss']\n",
    "\n",
    "# Create a plot\n",
    "epochs = range(1, len(loss) + 1)\n",
    "\n",
    "plt.figure(figsize=(10, 6))\n",
    "plt.plot(epochs, loss, 'bo-', label='Training Loss')\n",
    "plt.plot(epochs, val_loss, 'ro-', label='Validation Loss') \n",
    "plt.title('Training and Validation Loss')\n",
    "plt.xlabel('Epochs')\n",
    "plt.ylabel('Loss')\n",
    "plt.legend()\n",
    "plt.grid(True)\n",
    "plt.show()\n"
   ]
  },
  {
   "cell_type": "code",
   "execution_count": 22,
   "metadata": {
    "execution": {
     "iopub.execute_input": "2024-12-19T06:43:22.623125Z",
     "iopub.status.busy": "2024-12-19T06:43:22.622737Z",
     "iopub.status.idle": "2024-12-19T06:43:23.261474Z",
     "shell.execute_reply": "2024-12-19T06:43:23.260317Z",
     "shell.execute_reply.started": "2024-12-19T06:43:22.623098Z"
    },
    "trusted": true
   },
   "outputs": [
    {
     "name": "stdout",
     "output_type": "stream",
     "text": [
      "\u001b[1m180/180\u001b[0m \u001b[32m━━━━━━━━━━━━━━━━━━━━\u001b[0m\u001b[37m\u001b[0m \u001b[1m0s\u001b[0m 1ms/step\n",
      "C-index: 0.5912869637721772\n"
     ]
    }
   ],
   "source": [
    "from sksurv.metrics import concordance_index_censored\n",
    "\n",
    "# Predict the log-hazard ratios (output of the model)\n",
    "y_pred = model.predict(X_val_scaled)\n",
    "\n",
    "# Compute the C-index on the validation set\n",
    "c_index = concordance_index_censored(y_val['efs'], y_val['efs_time'], y_pred.flatten())\n",
    "print(f\"C-index: {c_index[0]}\")\n"
   ]
  },
  {
   "cell_type": "code",
   "execution_count": 27,
   "metadata": {
    "execution": {
     "iopub.execute_input": "2024-12-19T06:45:46.975572Z",
     "iopub.status.busy": "2024-12-19T06:45:46.975158Z",
     "iopub.status.idle": "2024-12-19T06:45:47.051696Z",
     "shell.execute_reply": "2024-12-19T06:45:47.050566Z",
     "shell.execute_reply.started": "2024-12-19T06:45:46.975538Z"
    },
    "trusted": true
   },
   "outputs": [],
   "source": [
    "test_df = pd.read_csv(\"/kaggle/input/equity-post-HCT-survival-predictions/test.csv\")\n",
    "test_data = handle_columns(test_df)"
   ]
  },
  {
   "cell_type": "code",
   "execution_count": 28,
   "metadata": {
    "execution": {
     "iopub.execute_input": "2024-12-19T06:45:47.333737Z",
     "iopub.status.busy": "2024-12-19T06:45:47.333362Z",
     "iopub.status.idle": "2024-12-19T06:45:47.346149Z",
     "shell.execute_reply": "2024-12-19T06:45:47.345287Z",
     "shell.execute_reply.started": "2024-12-19T06:45:47.333703Z"
    },
    "trusted": true
   },
   "outputs": [],
   "source": [
    "test_data_scaled = scaler.fit_transform(test_data)"
   ]
  },
  {
   "cell_type": "code",
   "execution_count": null,
   "metadata": {
    "trusted": true
   },
   "outputs": [],
   "source": [
    "# Ensure predictions are 1-dimensional\n",
    "test_data_ = test_data\n",
    "test_risk_scores = model.predict(test_data_)\n",
    "test_risk_scores = test_risk_scores.flatten()\n",
    "\n",
    "# Prepare submission file\n",
    "if \"ID\" in test_data.columns:\n",
    "    submission = pd.DataFrame({\n",
    "        \"ID\": test_data[\"ID\"],\n",
    "        \"prediction\": test_risk_scores\n",
    "    })\n",
    "else:\n",
    "    raise ValueError(\"The test dataset must contain an 'ID' column.\")\n",
    "\n",
    "# Save the submission file\n",
    "submission.to_csv(\"submission.csv\", index=False)\n",
    "print(\"Submission file created: submission.csv\")\n"
   ]
  },
  {
   "cell_type": "code",
   "execution_count": 32,
   "metadata": {
    "execution": {
     "iopub.execute_input": "2024-12-19T06:48:24.405931Z",
     "iopub.status.busy": "2024-12-19T06:48:24.405555Z",
     "iopub.status.idle": "2024-12-19T06:48:24.418408Z",
     "shell.execute_reply": "2024-12-19T06:48:24.417273Z",
     "shell.execute_reply.started": "2024-12-19T06:48:24.405898Z"
    },
    "trusted": true
   },
   "outputs": [
    {
     "name": "stdout",
     "output_type": "stream",
     "text": [
      "Submission file created: submission.csv\n"
     ]
    }
   ],
   "source": [
    "\"\"\"test_data_ = test_data\n",
    "test_risk_scores = model.predict(test_data_)\n",
    "\n",
    "# Prepare submission file (without 'ID' column)\n",
    "submission = pd.DataFrame({\n",
    "    \"ID\": test_data[\"ID\"],\n",
    "    \"prediction\": test_risk_scores   \n",
    "})\n",
    "\n",
    "# Save the submission file\n",
    "submission.to_csv(\"submission.csv\", index=False)\n",
    "print(\"Submission file created: submission.csv\")\"\"\""
   ]
  },
  {
   "cell_type": "code",
   "execution_count": 33,
   "metadata": {
    "execution": {
     "iopub.execute_input": "2024-12-19T06:48:34.131911Z",
     "iopub.status.busy": "2024-12-19T06:48:34.131433Z",
     "iopub.status.idle": "2024-12-19T06:48:34.146842Z",
     "shell.execute_reply": "2024-12-19T06:48:34.145359Z",
     "shell.execute_reply.started": "2024-12-19T06:48:34.131875Z"
    },
    "trusted": true
   },
   "outputs": [
    {
     "data": {
      "text/html": [
       "<div>\n",
       "<style scoped>\n",
       "    .dataframe tbody tr th:only-of-type {\n",
       "        vertical-align: middle;\n",
       "    }\n",
       "\n",
       "    .dataframe tbody tr th {\n",
       "        vertical-align: top;\n",
       "    }\n",
       "\n",
       "    .dataframe thead th {\n",
       "        text-align: right;\n",
       "    }\n",
       "</style>\n",
       "<table border=\"1\" class=\"dataframe\">\n",
       "  <thead>\n",
       "    <tr style=\"text-align: right;\">\n",
       "      <th></th>\n",
       "      <th>ID</th>\n",
       "      <th>prediction</th>\n",
       "    </tr>\n",
       "  </thead>\n",
       "  <tbody>\n",
       "    <tr>\n",
       "      <th>0</th>\n",
       "      <td>28800</td>\n",
       "      <td>911.215332</td>\n",
       "    </tr>\n",
       "    <tr>\n",
       "      <th>1</th>\n",
       "      <td>28801</td>\n",
       "      <td>910.036804</td>\n",
       "    </tr>\n",
       "    <tr>\n",
       "      <th>2</th>\n",
       "      <td>28802</td>\n",
       "      <td>912.614319</td>\n",
       "    </tr>\n",
       "  </tbody>\n",
       "</table>\n",
       "</div>"
      ],
      "text/plain": [
       "      ID  prediction\n",
       "0  28800  911.215332\n",
       "1  28801  910.036804\n",
       "2  28802  912.614319"
      ]
     },
     "execution_count": 33,
     "metadata": {},
     "output_type": "execute_result"
    }
   ],
   "source": [
    "submission"
   ]
  }
 ],
 "metadata": {
  "kaggle": {
   "accelerator": "none",
   "dataSources": [
    {
     "databundleVersionId": 10381525,
     "sourceId": 70942,
     "sourceType": "competition"
    },
    {
     "datasetId": 6328904,
     "sourceId": 10242604,
     "sourceType": "datasetVersion"
    }
   ],
   "dockerImageVersionId": 30822,
   "isGpuEnabled": false,
   "isInternetEnabled": false,
   "language": "python",
   "sourceType": "notebook"
  },
  "kernelspec": {
   "display_name": "Python 3",
   "language": "python",
   "name": "python3"
  },
  "language_info": {
   "codemirror_mode": {
    "name": "ipython",
    "version": 3
   },
   "file_extension": ".py",
   "mimetype": "text/x-python",
   "name": "python",
   "nbconvert_exporter": "python",
   "pygments_lexer": "ipython3",
   "version": "3.10.12"
  }
 },
 "nbformat": 4,
 "nbformat_minor": 4
}
